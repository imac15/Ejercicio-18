{
 "cells": [
  {
   "cell_type": "markdown",
   "id": "8c9e4951-1aca-4f92-bedf-f79f9ca901bd",
   "metadata": {},
   "source": [
    "18. Inseguridad. De acuerdo con las estadísticas de criminalidad, en promedio se roba un auto cada tres minutos. Determina:\n",
    "\n",
    "a) La distribución de probabilidad y la gráfica correspondiente. Describe de manera breve la distribución.\n",
    "                                \r",
    "b) La probabilidad de que en los siguientes tres minutos se roben dos autos.\n",
    "\n",
    "c) La probabilidad de que en los siguientes tres minutos se roben dos autos o menos.\n",
    "\n",
    "d) La probabilidad de que se roben seis autos en los siguientes 15 minutos.\n"
   ]
  },
  {
   "cell_type": "markdown",
   "id": "e3a9a874-2e1e-4e11-96f1-8430a633930d",
   "metadata": {},
   "source": [
    "#### a) La distribución de probabilidad y la gráfica correspondiente. Describe de manera breve la distribución."
   ]
  },
  {
   "cell_type": "code",
   "execution_count": 223,
   "id": "c3aedaec-6f04-4463-9d14-26dc273a46de",
   "metadata": {},
   "outputs": [
    {
     "data": {
      "image/png": "[encoded data removed]",
      "text/plain": [
       "<Figure size 640x480 with 1 Axes>"
      ]
     },
     "metadata": {},
     "output_type": "display_data"
    }
   ],
   "source": [
    "from scipy.stats import poisson\n",
    "\n",
    "lamda = 1\n",
    "\n",
    "def poisson_probability(x):\n",
    "    return (math.e ** (-lamda)) * (lamda ** x) / math.factorial(x)\n",
    "\n",
    "\n",
    "import matplotlib.pyplot as plt\n",
    "x = range(7)\n",
    "probabilities = [poisson_probability(i) for i in x]\n",
    "plt.bar(x, probabilities,\n",
    "           width=0.3, edgecolor=\"k\",\n",
    "           color=[\"#14BF48\", \"#33FFBE\", \"#333CFF\", \"#FF3349\", \"#F6FF33\", \"#33FFBE\"])\n",
    "plt.title(\"Distribución\")\n",
    "plt.xlabel(\"Número de autos robados\")\n",
    "plt.ylabel(\"Probabilidad\")\n",
    "plt.show()\n"
   ]
  },
  {
   "cell_type": "markdown",
   "id": "3ee1318b-19a0-4288-bced-fddeb73ac847",
   "metadata": {},
   "source": [
    "### b) La probabilidad de que en los siguientes tres minutos se roben dos autos."
   ]
  },
  {
   "cell_type": "markdown",
   "id": "c3ac8abd-faf3-4527-b8eb-5f624fb3064c",
   "metadata": {},
   "source": [
    "$$\n",
    "P(X = k) = \\frac{e^{-\\lambda} \\lambda^k}{k!}\n",
    "$$\n",
    "$$\n",
    "P(X = k) = \\frac{e^{-1} (1)^k}{k!}\n",
    "$$\n",
    "$$\n",
    "P(X = 2) = \\frac{e^{-1} (1)^2}{2!}\n",
    "$$\n",
    "$$\n",
    "P(X = 2) = \\frac{0.367 (1)}{2}\n",
    "$$\n",
    "$$\n",
    "P(X = 2) = 0.1839\n",
    "$$\n",
    "\n"
   ]
  },
  {
   "cell_type": "code",
   "execution_count": 196,
   "id": "da28a40a-a460-4d66-8f15-8d652621ca13",
   "metadata": {},
   "outputs": [
    {
     "name": "stdout",
     "output_type": "stream",
     "text": [
      "Probabilidad de que se roben 2 autos en 3 minutos es: 0.1839\n"
     ]
    }
   ],
   "source": [
    "# (b) Probabilidad de 2 autos robados en 3 minutos\n",
    "k = 2\n",
    "p_2_autos = poisson.pmf(k, lamda)\n",
    "print(f\"Probabilidad de que se roben 2 autos en 3 minutos es: {p_2_autos:.4f}\")"
   ]
  },
  {
   "cell_type": "markdown",
   "id": "932b6e3f-c0de-4528-80ad-75cc77ae7137",
   "metadata": {},
   "source": [
    "#### c) La probabilidad de que en los siguientes tres minutos se roben dos autos o menos."
   ]
  },
  {
   "cell_type": "markdown",
   "id": "60c1f153-76ca-41fe-bf44-1c83f09b15b3",
   "metadata": {},
   "source": [
    "$$\n",
    "P(X = 2) = 0.1839\n",
    "$$\n",
    "\n",
    "$$\n",
    "P(X = k) = \\frac{e^{-\\lambda} \\lambda^k}{k!}\n",
    "$$\n",
    "$$\n",
    "P(X = k) = \\frac{e^{-1} (1)^k}{k!}\n",
    "$$\n",
    "$$\n",
    "P(X = 1) = \\frac{e^{-1} (1)^1}{1!}\n",
    "$$\n",
    "$$\n",
    "P(X = 1) = \\frac{0.367 (1)}{1}\n",
    "$$\n",
    "$$\n",
    "P(X = 1) = 0.3678\n",
    "$$\n",
    "\n",
    "$$\n",
    "P(X = k) = \\frac{e^{-\\lambda} \\lambda^k}{k!}\n",
    "$$\n",
    "$$\n",
    "P(X = k) = \\frac{e^{-1} (1)^k}{k!}\n",
    "$$\n",
    "$$\n",
    "P(X = 0) = \\frac{e^{-1} (1)^0}{0!}\n",
    "$$\n",
    "$$\n",
    "P(X = 0) = \\frac{0.367 (1)}{0}\n",
    "$$\n",
    "$$\n",
    "P(X = 0) = 0.3678\n",
    "$$\n",
    "\n",
    "$$\n",
    "P(X = 0) + P(X = 1) + P(X = 2) = 0.9197\n",
    "$$"
   ]
  },
  {
   "cell_type": "code",
   "execution_count": 197,
   "id": "b23769c0-fd61-49d2-ac27-2ceaccc83291",
   "metadata": {},
   "outputs": [
    {
     "name": "stdout",
     "output_type": "stream",
     "text": [
      "La probabilidad de que se roben 2 autos o menos en 3 minutos es: 0.9197\n"
     ]
    }
   ],
   "source": [
    "# (c) Probabilidad de 2 autos o menos robados en 3 minutos\n",
    "p_2_o_menos = sum(poisson.pmf(i, lamda) for i in range(\n",
    "    3))\n",
    "print(f\"La probabilidad de que se roben 2 autos o menos en 3 minutos es: {p_2_o_menos:.4f}\")"
   ]
  },
  {
   "cell_type": "markdown",
   "id": "5d9d9c4b-502d-4701-948b-4be2808d73e5",
   "metadata": {},
   "source": [
    "#### d) La probabilidad de que se roben seis autos en los siguientes 15 minutos."
   ]
  },
  {
   "cell_type": "markdown",
   "id": "77728a20-86bf-4274-b503-08b6dbad51a0",
   "metadata": {},
   "source": [
    "$$\n",
    "P(X = k) = \\frac{e^{-\\lambda} \\lambda^k}{k!}\n",
    "$$\n",
    "$$\n",
    "P(X = k) = \\frac{e^{-5} (5)^k}{k!}\n",
    "$$\n",
    "$$\n",
    "P(X = 6) = \\frac{e^{-5} (5)^6}{6!}\n",
    "$$\n",
    "$$\n",
    "P(X = 6) = \\frac{0.367 (15625)}{6}\n",
    "$$\n",
    "$$\n",
    "P(X = 6) = 0.1462\n",
    "$$"
   ]
  },
  {
   "cell_type": "code",
   "execution_count": 198,
   "id": "85ee3a57-e564-41ac-b0d1-6d488cc420e5",
   "metadata": {},
   "outputs": [
    {
     "name": "stdout",
     "output_type": "stream",
     "text": [
      "La probabilidad de que se roben 6 autos en 15 minutos es: 0.1462\n"
     ]
    }
   ],
   "source": [
    "# (d) Probabilidad de 6 autos robados en 15 minutos\n",
    "lamda_15_min = 5 # Número promedio de autos robados en 15 minutos\n",
    "k = 6\n",
    "p_6_autos = poisson.pmf(k, lamda_15_min)\n",
    "print(f\"La probabilidad de que se roben 6 autos en 15 minutos es: {p_6_autos:.4f}\")"
   ]
  },
  {
   "cell_type": "code",
   "execution_count": null,
   "id": "ef6404fb-2370-48f1-9f9d-7119cc6c618c",
   "metadata": {},
   "outputs": [],
   "source": []
  },
  {
   "cell_type": "code",
   "execution_count": 199,
   "id": "f6242f51-0041-4ad0-a469-0ed6b61353d7",
   "metadata": {},
   "outputs": [],
   "source": [
    "from scipy.stats import poisson\n",
    "lmbda = 1\n",
    "k = 2\n",
    "prob = poisson.pmf(k, lmbda)"
   ]
  },
  {
   "cell_type": "code",
   "execution_count": 200,
   "id": "5043fae8-ac5b-4e2f-a66f-2b6f0ac55cda",
   "metadata": {},
   "outputs": [
    {
     "name": "stdout",
     "output_type": "stream",
     "text": [
      "0.18393972058572114\n"
     ]
    }
   ],
   "source": [
    "print (prob)"
   ]
  },
  {
   "cell_type": "code",
   "execution_count": 201,
   "id": "bb46394d-2557-4cd4-8a2f-1fd3a1566620",
   "metadata": {},
   "outputs": [],
   "source": [
    "from scipy.stats import poisson\n",
    "lmbda = 1\n",
    "k = 1\n",
    "prob2 = poisson.pmf(k, lmbda)"
   ]
  },
  {
   "cell_type": "code",
   "execution_count": 202,
   "id": "a418d844-6657-46bf-80f6-26482f118611",
   "metadata": {},
   "outputs": [
    {
     "name": "stdout",
     "output_type": "stream",
     "text": [
      "0.36787944117144233\n"
     ]
    }
   ],
   "source": [
    "print (prob2)"
   ]
  },
  {
   "cell_type": "code",
   "execution_count": 203,
   "id": "cf05cefb-5e05-4d71-b5da-22a6943de78f",
   "metadata": {},
   "outputs": [],
   "source": [
    "from scipy.stats import poisson\n",
    "lmbda = 1\n",
    "k = 0\n",
    "prob3 = poisson.pmf(k, lmbda)"
   ]
  },
  {
   "cell_type": "code",
   "execution_count": 204,
   "id": "9637025a-7719-4ec3-a28f-3e751c59f379",
   "metadata": {},
   "outputs": [
    {
     "name": "stdout",
     "output_type": "stream",
     "text": [
      "0.36787944117144233\n"
     ]
    }
   ],
   "source": [
    "print (prob3)"
   ]
  },
  {
   "cell_type": "code",
   "execution_count": 205,
   "id": "e96c65e9-d163-4427-9afe-a66ff413798c",
   "metadata": {},
   "outputs": [
    {
     "name": "stdout",
     "output_type": "stream",
     "text": [
      "0.9196986029286058\n"
     ]
    }
   ],
   "source": [
    "probb = prob + prob2 + prob3\n",
    "print (probb)"
   ]
  },
  {
   "cell_type": "code",
   "execution_count": 206,
   "id": "2bc94578-131a-458e-abcc-f3a277abc672",
   "metadata": {},
   "outputs": [],
   "source": [
    "from scipy.stats import poisson\n",
    "lmbda = 5\n",
    "k = 6\n",
    "prob3 = poisson.pmf(k, lmbda)"
   ]
  },
  {
   "cell_type": "code",
   "execution_count": 207,
   "id": "08fe3817-208f-4bfc-ab2f-ff327a233300",
   "metadata": {},
   "outputs": [
    {
     "name": "stdout",
     "output_type": "stream",
     "text": [
      "0.1462228081398754\n"
     ]
    }
   ],
   "source": [
    "print (prob3)"
   ]
  }
 ],
 "metadata": {
  "kernelspec": {
   "display_name": "Python 3 (ipykernel)",
   "language": "python",
   "name": "python3"
  },
  "language_info": {
   "codemirror_mode": {
    "name": "ipython",
    "version": 3
   },
   "file_extension": ".py",
   "mimetype": "text/x-python",
   "name": "python",
   "nbconvert_exporter": "python",
   "pygments_lexer": "ipython3",
   "version": "3.11.4"
  }
 },
 "nbformat": 4,
 "nbformat_minor": 5
}
